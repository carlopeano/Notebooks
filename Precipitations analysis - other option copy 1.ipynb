{
    "cells": [
        {
            "cell_type": "markdown",
            "metadata": {},
            "source": "# Description\n\nThis notebook analyses and visualises precipitations in Italy"
        },
        {
            "cell_type": "code",
            "execution_count": 2,
            "metadata": {},
            "outputs": [
                {
                    "data": {
                        "text/plain": "[Row(STATION='SZ000006717', NAME='COL DU GRAND ST BERNARD, SZ', LATITUDE='45.8667', LONGITUDE='7.1667', ELEVATION='2472.0', DATE='2010', CDSD='0.0', DSND=None, EMNT='-20.6', EMSD=None, EMXP='143.7', EMXT='19.3', FZF0='0.0', FZF1='-3.0', FZF2='-5.0', FZF3='-6.8', FZF4='-9.4', FZF5='-0.3', FZF6='-2.6', FZF7='-4.9', FZF8='-7.6', FZF9='-9.5', HDSD='6940.0', PRCP='2324.8', TAVG='-1.5', TMAX='1.1', TMIN='-4.2'),\n Row(STATION='SZ000006717', NAME='COL DU GRAND ST BERNARD, SZ', LATITUDE='45.8667', LONGITUDE='7.1667', ELEVATION='2472.0', DATE='2011', CDSD='0.0', DSND=None, EMNT='-19.5', EMSD=None, EMXP='110.1', EMXT='20.5', FZF0='-0.7', FZF1='-4.8', FZF2='-4.8', FZF3='-7.1', FZF4='-8.9', FZF5='-2.5', FZF6='-2.5', FZF7='-5.3', FZF8='-8.1', FZF9='-10.1', HDSD='6751.2', PRCP='2243.8', TAVG='0.8', TMAX='3.6', TMIN='-2.0'),\n Row(STATION='SZ000006717', NAME='COL DU GRAND ST BERNARD, SZ', LATITUDE='45.8667', LONGITUDE='7.1667', ELEVATION='2472.0', DATE='2012', CDSD='0.0', DSND=None, EMNT='-25.2', EMSD=None, EMXP='145.7', EMXT='21.6', FZF0='-2.0', FZF1='-3.5', FZF2='-8.6', FZF3='-8.6', FZF4='-12.1', FZF5='-2.0', FZF6='-2.2', FZF7='-7.7', FZF8='-7.7', FZF9='-9.4', HDSD='6594.6', PRCP='2454.6', TAVG='0.1', TMAX='2.9', TMIN='-2.8'),\n Row(STATION='SZ000006717', NAME='COL DU GRAND ST BERNARD, SZ', LATITUDE='45.8667', LONGITUDE='7.1667', ELEVATION='2472.0', DATE='2013', CDSD='0.0', DSND=None, EMNT='-20.4', EMSD=None, EMXP='78.9', EMXT='19.0', FZF0='-1.6', FZF1='-2.9', FZF2='-4.6', FZF3='-8.1', FZF4='-9.8', FZF5='-1.1', FZF6='-2.7', FZF7='-4.9', FZF8='-7.3', FZF9='-9.2', HDSD='6997.9', PRCP='1856.2', TAVG='-0.7', TMAX='2.0', TMIN='-3.3'),\n Row(STATION='SZ000006717', NAME='COL DU GRAND ST BERNARD, SZ', LATITUDE='45.8667', LONGITUDE='7.1667', ELEVATION='2472.0', DATE='2014', CDSD='0.0', DSND=None, EMNT='-17.2', EMSD=None, EMXP=None, EMXT='17.3', FZF0='-1.3', FZF1='-5.5', FZF2='-5.5', FZF3='-9.2', FZF4='-9.2', FZF5='-1.8', FZF6='-2.2', FZF7='-7.1', FZF8='-7.1', FZF9='-9.6', HDSD='6492.8', PRCP=None, TAVG='0.3', TMAX='2.8', TMIN='-2.3')]"
                    },
                    "execution_count": 2,
                    "metadata": {},
                    "output_type": "execute_result"
                }
            ],
            "source": "# The code was removed by Watson Studio for sharing."
        }
    ],
    "metadata": {
        "kernelspec": {
            "display_name": "Scala 2.11 with Spark",
            "language": "scala",
            "name": "scala"
        },
        "language_info": {
            "codemirror_mode": "text/x-scala",
            "file_extension": ".scala",
            "mimetype": "text/x-scala",
            "name": "scala",
            "pygments_lexer": "scala",
            "version": "2.11.12"
        }
    },
    "nbformat": 4,
    "nbformat_minor": 1
}